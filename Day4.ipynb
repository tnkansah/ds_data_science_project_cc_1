{
 "cells": [
  {
   "cell_type": "markdown",
   "id": "41fd5f13-d6c3-4a27-977f-12035a3451ca",
   "metadata": {},
   "source": [
    "## Importing Libraries "
   ]
  },
  {
   "cell_type": "code",
   "execution_count": 1,
   "id": "b8a74670-a214-42cb-b745-7d6e61cdefe4",
   "metadata": {},
   "outputs": [],
   "source": [
    "# libraries for loading and preprocessing / cleaning \n",
    "import numpy as np \n",
    "import pandas as pd "
   ]
  },
  {
   "cell_type": "markdown",
   "id": "03dd9182-8e69-4b72-9e39-86801165cc27",
   "metadata": {},
   "source": [
    "## Loading Dataset "
   ]
  },
  {
   "cell_type": "code",
   "execution_count": 2,
   "id": "a3971658-bb51-4715-9f87-f9481efc49f3",
   "metadata": {},
   "outputs": [],
   "source": [
    "## loading dataset\n",
    "data = pd.read_csv('Datasets/Toyota.csv')"
   ]
  },
  {
   "cell_type": "code",
   "execution_count": 3,
   "id": "1015b435-a4be-4937-a9c6-e1e855ad0bbb",
   "metadata": {},
   "outputs": [],
   "source": [
    "## creating a copy \n",
    "df = data.copy()"
   ]
  },
  {
   "cell_type": "markdown",
   "id": "cb84ae69-07c2-4e26-8bde-015f78634361",
   "metadata": {},
   "source": [
    "## Dataset Overview "
   ]
  },
  {
   "cell_type": "code",
   "execution_count": 4,
   "id": "cc92f1cf-d1d0-4a10-b51b-f09e09cb2b68",
   "metadata": {},
   "outputs": [
    {
     "data": {
      "text/html": [
       "<div>\n",
       "<style scoped>\n",
       "    .dataframe tbody tr th:only-of-type {\n",
       "        vertical-align: middle;\n",
       "    }\n",
       "\n",
       "    .dataframe tbody tr th {\n",
       "        vertical-align: top;\n",
       "    }\n",
       "\n",
       "    .dataframe thead th {\n",
       "        text-align: right;\n",
       "    }\n",
       "</style>\n",
       "<table border=\"1\" class=\"dataframe\">\n",
       "  <thead>\n",
       "    <tr style=\"text-align: right;\">\n",
       "      <th></th>\n",
       "      <th>Unnamed: 0</th>\n",
       "      <th>Price</th>\n",
       "      <th>Age</th>\n",
       "      <th>KM</th>\n",
       "      <th>FuelType</th>\n",
       "      <th>HP</th>\n",
       "      <th>MetColor</th>\n",
       "      <th>Automatic</th>\n",
       "      <th>CC</th>\n",
       "      <th>Doors</th>\n",
       "      <th>Weight</th>\n",
       "    </tr>\n",
       "  </thead>\n",
       "  <tbody>\n",
       "    <tr>\n",
       "      <th>0</th>\n",
       "      <td>0</td>\n",
       "      <td>13500</td>\n",
       "      <td>23.0</td>\n",
       "      <td>46986</td>\n",
       "      <td>Diesel</td>\n",
       "      <td>90</td>\n",
       "      <td>1.0</td>\n",
       "      <td>0</td>\n",
       "      <td>2000</td>\n",
       "      <td>three</td>\n",
       "      <td>1165</td>\n",
       "    </tr>\n",
       "    <tr>\n",
       "      <th>1</th>\n",
       "      <td>1</td>\n",
       "      <td>13750</td>\n",
       "      <td>23.0</td>\n",
       "      <td>72937</td>\n",
       "      <td>Diesel</td>\n",
       "      <td>90</td>\n",
       "      <td>1.0</td>\n",
       "      <td>0</td>\n",
       "      <td>2000</td>\n",
       "      <td>3</td>\n",
       "      <td>1165</td>\n",
       "    </tr>\n",
       "    <tr>\n",
       "      <th>2</th>\n",
       "      <td>2</td>\n",
       "      <td>13950</td>\n",
       "      <td>24.0</td>\n",
       "      <td>41711</td>\n",
       "      <td>Diesel</td>\n",
       "      <td>90</td>\n",
       "      <td>NaN</td>\n",
       "      <td>0</td>\n",
       "      <td>2000</td>\n",
       "      <td>3</td>\n",
       "      <td>1165</td>\n",
       "    </tr>\n",
       "    <tr>\n",
       "      <th>3</th>\n",
       "      <td>3</td>\n",
       "      <td>14950</td>\n",
       "      <td>26.0</td>\n",
       "      <td>48000</td>\n",
       "      <td>Diesel</td>\n",
       "      <td>90</td>\n",
       "      <td>0.0</td>\n",
       "      <td>0</td>\n",
       "      <td>2000</td>\n",
       "      <td>3</td>\n",
       "      <td>1165</td>\n",
       "    </tr>\n",
       "    <tr>\n",
       "      <th>4</th>\n",
       "      <td>4</td>\n",
       "      <td>13750</td>\n",
       "      <td>30.0</td>\n",
       "      <td>38500</td>\n",
       "      <td>Diesel</td>\n",
       "      <td>90</td>\n",
       "      <td>0.0</td>\n",
       "      <td>0</td>\n",
       "      <td>2000</td>\n",
       "      <td>3</td>\n",
       "      <td>1170</td>\n",
       "    </tr>\n",
       "  </tbody>\n",
       "</table>\n",
       "</div>"
      ],
      "text/plain": [
       "   Unnamed: 0  Price   Age     KM FuelType  HP  MetColor  Automatic    CC  \\\n",
       "0           0  13500  23.0  46986   Diesel  90       1.0          0  2000   \n",
       "1           1  13750  23.0  72937   Diesel  90       1.0          0  2000   \n",
       "2           2  13950  24.0  41711   Diesel  90       NaN          0  2000   \n",
       "3           3  14950  26.0  48000   Diesel  90       0.0          0  2000   \n",
       "4           4  13750  30.0  38500   Diesel  90       0.0          0  2000   \n",
       "\n",
       "   Doors  Weight  \n",
       "0  three    1165  \n",
       "1      3    1165  \n",
       "2      3    1165  \n",
       "3      3    1165  \n",
       "4      3    1170  "
      ]
     },
     "execution_count": 4,
     "metadata": {},
     "output_type": "execute_result"
    }
   ],
   "source": [
    "## display the first five rows \n",
    "df.head()"
   ]
  },
  {
   "cell_type": "code",
   "execution_count": 5,
   "id": "29d67b94-a20b-484a-b1ba-17bc26f53d9f",
   "metadata": {},
   "outputs": [
    {
     "data": {
      "text/html": [
       "<div>\n",
       "<style scoped>\n",
       "    .dataframe tbody tr th:only-of-type {\n",
       "        vertical-align: middle;\n",
       "    }\n",
       "\n",
       "    .dataframe tbody tr th {\n",
       "        vertical-align: top;\n",
       "    }\n",
       "\n",
       "    .dataframe thead th {\n",
       "        text-align: right;\n",
       "    }\n",
       "</style>\n",
       "<table border=\"1\" class=\"dataframe\">\n",
       "  <thead>\n",
       "    <tr style=\"text-align: right;\">\n",
       "      <th></th>\n",
       "      <th>Unnamed: 0</th>\n",
       "      <th>Price</th>\n",
       "      <th>Age</th>\n",
       "      <th>KM</th>\n",
       "      <th>FuelType</th>\n",
       "      <th>HP</th>\n",
       "      <th>MetColor</th>\n",
       "      <th>Automatic</th>\n",
       "      <th>CC</th>\n",
       "      <th>Doors</th>\n",
       "      <th>Weight</th>\n",
       "    </tr>\n",
       "  </thead>\n",
       "  <tbody>\n",
       "    <tr>\n",
       "      <th>1431</th>\n",
       "      <td>1431</td>\n",
       "      <td>7500</td>\n",
       "      <td>NaN</td>\n",
       "      <td>20544</td>\n",
       "      <td>Petrol</td>\n",
       "      <td>86</td>\n",
       "      <td>1.0</td>\n",
       "      <td>0</td>\n",
       "      <td>1300</td>\n",
       "      <td>3</td>\n",
       "      <td>1025</td>\n",
       "    </tr>\n",
       "    <tr>\n",
       "      <th>1432</th>\n",
       "      <td>1432</td>\n",
       "      <td>10845</td>\n",
       "      <td>72.0</td>\n",
       "      <td>??</td>\n",
       "      <td>Petrol</td>\n",
       "      <td>86</td>\n",
       "      <td>0.0</td>\n",
       "      <td>0</td>\n",
       "      <td>1300</td>\n",
       "      <td>3</td>\n",
       "      <td>1015</td>\n",
       "    </tr>\n",
       "    <tr>\n",
       "      <th>1433</th>\n",
       "      <td>1433</td>\n",
       "      <td>8500</td>\n",
       "      <td>NaN</td>\n",
       "      <td>17016</td>\n",
       "      <td>Petrol</td>\n",
       "      <td>86</td>\n",
       "      <td>0.0</td>\n",
       "      <td>0</td>\n",
       "      <td>1300</td>\n",
       "      <td>3</td>\n",
       "      <td>1015</td>\n",
       "    </tr>\n",
       "    <tr>\n",
       "      <th>1434</th>\n",
       "      <td>1434</td>\n",
       "      <td>7250</td>\n",
       "      <td>70.0</td>\n",
       "      <td>??</td>\n",
       "      <td>NaN</td>\n",
       "      <td>86</td>\n",
       "      <td>1.0</td>\n",
       "      <td>0</td>\n",
       "      <td>1300</td>\n",
       "      <td>3</td>\n",
       "      <td>1015</td>\n",
       "    </tr>\n",
       "    <tr>\n",
       "      <th>1435</th>\n",
       "      <td>1435</td>\n",
       "      <td>6950</td>\n",
       "      <td>76.0</td>\n",
       "      <td>1</td>\n",
       "      <td>Petrol</td>\n",
       "      <td>110</td>\n",
       "      <td>0.0</td>\n",
       "      <td>0</td>\n",
       "      <td>1600</td>\n",
       "      <td>5</td>\n",
       "      <td>1114</td>\n",
       "    </tr>\n",
       "  </tbody>\n",
       "</table>\n",
       "</div>"
      ],
      "text/plain": [
       "      Unnamed: 0  Price   Age     KM FuelType   HP  MetColor  Automatic    CC  \\\n",
       "1431        1431   7500   NaN  20544   Petrol   86       1.0          0  1300   \n",
       "1432        1432  10845  72.0     ??   Petrol   86       0.0          0  1300   \n",
       "1433        1433   8500   NaN  17016   Petrol   86       0.0          0  1300   \n",
       "1434        1434   7250  70.0     ??      NaN   86       1.0          0  1300   \n",
       "1435        1435   6950  76.0      1   Petrol  110       0.0          0  1600   \n",
       "\n",
       "     Doors  Weight  \n",
       "1431     3    1025  \n",
       "1432     3    1015  \n",
       "1433     3    1015  \n",
       "1434     3    1015  \n",
       "1435     5    1114  "
      ]
     },
     "execution_count": 5,
     "metadata": {},
     "output_type": "execute_result"
    }
   ],
   "source": [
    "## displaying the last five rows  \n",
    "df.tail()"
   ]
  },
  {
   "cell_type": "markdown",
   "id": "c36bd436-4bc2-4065-a3ac-f55f627df480",
   "metadata": {},
   "source": [
    "## Understanding the dataset "
   ]
  },
  {
   "cell_type": "code",
   "execution_count": 6,
   "id": "a5c0ecc6-cc0b-4a09-a1a7-c38f4107f70e",
   "metadata": {},
   "outputs": [
    {
     "name": "stdout",
     "output_type": "stream",
     "text": [
      "<class 'pandas.core.frame.DataFrame'>\n",
      "RangeIndex: 1436 entries, 0 to 1435\n",
      "Data columns (total 11 columns):\n",
      " #   Column      Non-Null Count  Dtype  \n",
      "---  ------      --------------  -----  \n",
      " 0   Unnamed: 0  1436 non-null   int64  \n",
      " 1   Price       1436 non-null   int64  \n",
      " 2   Age         1336 non-null   float64\n",
      " 3   KM          1436 non-null   object \n",
      " 4   FuelType    1336 non-null   object \n",
      " 5   HP          1436 non-null   object \n",
      " 6   MetColor    1286 non-null   float64\n",
      " 7   Automatic   1436 non-null   int64  \n",
      " 8   CC          1436 non-null   int64  \n",
      " 9   Doors       1436 non-null   object \n",
      " 10  Weight      1436 non-null   int64  \n",
      "dtypes: float64(2), int64(5), object(4)\n",
      "memory usage: 123.5+ KB\n"
     ]
    }
   ],
   "source": [
    "## lets get the concise summary of the data\n",
    "df.info()"
   ]
  },
  {
   "cell_type": "code",
   "execution_count": 7,
   "id": "b22e4fc9-b243-4f81-9834-a1a922f1fb2f",
   "metadata": {},
   "outputs": [
    {
     "data": {
      "text/plain": [
       "Unnamed: 0      0\n",
       "Price           0\n",
       "Age           100\n",
       "KM              0\n",
       "FuelType      100\n",
       "HP              0\n",
       "MetColor      150\n",
       "Automatic       0\n",
       "CC              0\n",
       "Doors           0\n",
       "Weight          0\n",
       "dtype: int64"
      ]
     },
     "execution_count": 7,
     "metadata": {},
     "output_type": "execute_result"
    }
   ],
   "source": [
    "## finding missing values \n",
    "df.isnull().sum()"
   ]
  },
  {
   "cell_type": "code",
   "execution_count": 8,
   "id": "5553184b-96b4-4709-a7b3-ef1dc7ab557a",
   "metadata": {},
   "outputs": [
    {
     "name": "stdout",
     "output_type": "stream",
     "text": [
      "Total rows: 1436 and Total cols: 11\n"
     ]
    }
   ],
   "source": [
    "## display the total number of rows and cols \n",
    "print(f\"Total rows: {df.shape[0]} and Total cols: {df.shape[1]}\")"
   ]
  },
  {
   "cell_type": "code",
   "execution_count": 9,
   "id": "038aaa03-b772-4180-8b6b-ee515331092c",
   "metadata": {},
   "outputs": [
    {
     "data": {
      "text/plain": [
       "15796"
      ]
     },
     "execution_count": 9,
     "metadata": {},
     "output_type": "execute_result"
    }
   ],
   "source": [
    "## check the size data \n",
    "df.size"
   ]
  },
  {
   "cell_type": "code",
   "execution_count": 10,
   "id": "ef8a8c60-8b37-42b4-80ad-6a718f4ba7a0",
   "metadata": {
    "scrolled": true
   },
   "outputs": [
    {
     "data": {
      "text/plain": [
       "Unnamed: 0      int64\n",
       "Price           int64\n",
       "Age           float64\n",
       "KM             object\n",
       "FuelType       object\n",
       "HP             object\n",
       "MetColor      float64\n",
       "Automatic       int64\n",
       "CC              int64\n",
       "Doors          object\n",
       "Weight          int64\n",
       "dtype: object"
      ]
     },
     "execution_count": 10,
     "metadata": {},
     "output_type": "execute_result"
    }
   ],
   "source": [
    "## lets get the types on the cols \n",
    "df.dtypes"
   ]
  },
  {
   "cell_type": "code",
   "execution_count": 11,
   "id": "6bf46116-c98c-4be2-bddc-80ce50df2cc1",
   "metadata": {},
   "outputs": [
    {
     "data": {
      "text/plain": [
       "Unnamed: 0    1436\n",
       "Price          236\n",
       "Age             77\n",
       "KM            1256\n",
       "FuelType         3\n",
       "HP              13\n",
       "MetColor         2\n",
       "Automatic        2\n",
       "CC              12\n",
       "Doors            7\n",
       "Weight          59\n",
       "dtype: int64"
      ]
     },
     "execution_count": 11,
     "metadata": {},
     "output_type": "execute_result"
    }
   ],
   "source": [
    "## display to the total count for unique items in the cols \n",
    "df.nunique()"
   ]
  },
  {
   "cell_type": "code",
   "execution_count": 12,
   "id": "c9d0edeb-946a-4c0f-a1be-065d20afcd0b",
   "metadata": {},
   "outputs": [
    {
     "data": {
      "text/plain": [
       "array([13500, 13750, 13950, 14950, 12950, 16900, 18600, 21500, 20950,\n",
       "       19950, 19600, 22500, 22000, 22750, 17950, 16750, 16950, 15950,\n",
       "       16250, 17495, 15750, 15500, 14750, 19000, 15800, 21950, 20500,\n",
       "       13250, 15250, 18950, 15999, 16500, 18750, 22250, 12995, 18450,\n",
       "       16895, 14900, 17250, 15450, 16650, 17450, 16450, 18900, 18990,\n",
       "       18500, 19450, 18800, 32500, 31000, 31275, 24950, 22950, 24990,\n",
       "       17900, 19250, 16350, 21750, 15850, 23000, 19900, 23950, 24500,\n",
       "       17200, 19500, 16868, 19750, 20750, 17650, 17795, 18245, 23750,\n",
       "       18700, 21125,  6950,  9500, 11950,  7750,  4350,  4750, 11750,\n",
       "       11900,  9950, 11495, 11250, 10500, 10450, 11500, 12500, 10950,\n",
       "       11450, 11790, 12450, 11690, 12750, 11925, 12900, 11650, 10850,\n",
       "        9940, 13450, 12495, 12000, 11480, 14990, 12850, 11700, 11895,\n",
       "       13875, 12295, 13995,  9900, 11990, 10750, 11695, 11000, 12400,\n",
       "       12200, 12695, 14350, 10250,  6500,  6400,  7000,  8900,  8500,\n",
       "        8950,  9250,  9450,  8250,  4450,  9000,  5150,  7900, 10900,\n",
       "        9750, 11290, 10895, 10995,  9850,  8695, 10990,  8750,  9930,\n",
       "        9799,  9700,  9990,  9475, 10000, 10495,  9400,  9650,  9550,\n",
       "       13000, 11710,  9980, 12250, 11930, 10800, 10600,  7500,  5950,\n",
       "        6900,  5751,  7950,  6250,  8450,  7350,  9800,  7995,  8600,\n",
       "        7250,  8000,  8495,  9895,  7999,  8490,  8150,  7450,  9130,\n",
       "        8990,  8995,  9995, 10400,  8800,  7800,  8100,  8200, 10295,\n",
       "        9795, 10350,  8400,  8895,  9390,  8745,  8850,  9695,  9245,\n",
       "        5900,  6000,  5250,  4400,  6750,  6150,  5750,  5800,  5740,\n",
       "        6550,  6450,  5600,  6650,  7600,  7460,  6800,  8700,  6640,\n",
       "        8050,  7795,  6490,  6425,  6495,  6990,  7200,  7300,  9200,\n",
       "        7850,  7495,  7990,  7490,  7145,  7400,  6999,  7499,  7150,\n",
       "        5845, 10845])"
      ]
     },
     "execution_count": 12,
     "metadata": {},
     "output_type": "execute_result"
    }
   ],
   "source": [
    "## display the unique data in price \n",
    "df['Price'].unique()"
   ]
  },
  {
   "cell_type": "code",
   "execution_count": 13,
   "id": "684db62d-3dcf-4e85-ac20-13b68644b3c4",
   "metadata": {},
   "outputs": [
    {
     "name": "stdout",
     "output_type": "stream",
     "text": [
      "[   0    1    2 ... 1433 1434 1435]\n",
      "[13500 13750 13950 14950 12950 16900 18600 21500 20950 19950 19600 22500\n",
      " 22000 22750 17950 16750 16950 15950 16250 17495 15750 15500 14750 19000\n",
      " 15800 21950 20500 13250 15250 18950 15999 16500 18750 22250 12995 18450\n",
      " 16895 14900 17250 15450 16650 17450 16450 18900 18990 18500 19450 18800\n",
      " 32500 31000 31275 24950 22950 24990 17900 19250 16350 21750 15850 23000\n",
      " 19900 23950 24500 17200 19500 16868 19750 20750 17650 17795 18245 23750\n",
      " 18700 21125  6950  9500 11950  7750  4350  4750 11750 11900  9950 11495\n",
      " 11250 10500 10450 11500 12500 10950 11450 11790 12450 11690 12750 11925\n",
      " 12900 11650 10850  9940 13450 12495 12000 11480 14990 12850 11700 11895\n",
      " 13875 12295 13995  9900 11990 10750 11695 11000 12400 12200 12695 14350\n",
      " 10250  6500  6400  7000  8900  8500  8950  9250  9450  8250  4450  9000\n",
      "  5150  7900 10900  9750 11290 10895 10995  9850  8695 10990  8750  9930\n",
      "  9799  9700  9990  9475 10000 10495  9400  9650  9550 13000 11710  9980\n",
      " 12250 11930 10800 10600  7500  5950  6900  5751  7950  6250  8450  7350\n",
      "  9800  7995  8600  7250  8000  8495  9895  7999  8490  8150  7450  9130\n",
      "  8990  8995  9995 10400  8800  7800  8100  8200 10295  9795 10350  8400\n",
      "  8895  9390  8745  8850  9695  9245  5900  6000  5250  4400  6750  6150\n",
      "  5750  5800  5740  6550  6450  5600  6650  7600  7460  6800  8700  6640\n",
      "  8050  7795  6490  6425  6495  6990  7200  7300  9200  7850  7495  7990\n",
      "  7490  7145  7400  6999  7499  7150  5845 10845]\n",
      "[23. 24. 26. 30. 32. 27. 25. 22. 31. 28. 29. nan 20. 19. 17. 11. 18. 13.\n",
      " 14.  4.  8.  7. 16. 15. 10. 12.  9.  6.  2.  1. 43. 38. 40. 44. 41. 37.\n",
      " 39. 42. 35. 34. 33. 36. 53. 51. 54. 45. 55. 48. 52. 49. 56. 50. 47. 46.\n",
      " 58. 68. 59. 62. 65. 67. 64. 60. 61. 66. 57. 63. 73. 79. 78. 74. 77. 69.\n",
      " 80. 76. 70. 71. 75. 72.]\n",
      "['46986' '72937' '41711' ... '30964' '20544' '17016']\n",
      "['Diesel' nan 'Petrol' 'CNG']\n",
      "['90' '????' '192' '110' '97' '71' '116' '98' '69' '86' '72' '107' '73']\n",
      "[ 1. nan  0.]\n",
      "[0 1]\n",
      "[2000 1800 1900 1600 1400 1598 1995 1398 1300 1587 1975 1332]\n",
      "['three' '3' '5' '4' 'four' 'five' '2']\n",
      "[1165 1170 1245 1185 1105 1065 1120 1100 1255 1270 1110 1195 1180 1075\n",
      " 1130 1275 1060 1115 1265 1260 1125 1155 1045 1480 1320 1280 1135 1090\n",
      " 1150 1085 1160 1205 1084 1140 1095 1025 1119 1080 1121 1615 1067 1040\n",
      " 1030 1055 1050 1103 1070 1035 1015 1000 1078 1079 1109 1020 1010 1114\n",
      " 1172 1094 1083]\n"
     ]
    }
   ],
   "source": [
    "for each_col in df.columns:\n",
    "    print(df[each_col].unique())"
   ]
  },
  {
   "cell_type": "markdown",
   "id": "1c221dbc-7068-4781-b43a-7acb7737a005",
   "metadata": {},
   "source": [
    "## Preprocessing / Cleaning Dataset \n",
    "- drop the Unnamed column\n",
    "- Replace special characters\n",
    "- Change the column types\n",
    "- missing values "
   ]
  },
  {
   "cell_type": "code",
   "execution_count": 14,
   "id": "2156f5ab-75db-468d-961e-7b9d95432edd",
   "metadata": {},
   "outputs": [],
   "source": [
    "## deleting col\n",
    "del df['Unnamed: 0']"
   ]
  },
  {
   "cell_type": "code",
   "execution_count": 15,
   "id": "1c1ecdf2-ddc7-4b36-a415-28e110a750ef",
   "metadata": {},
   "outputs": [],
   "source": [
    "## \n",
    "df['KM'] = df['KM'].replace('??', np.nan) "
   ]
  },
  {
   "cell_type": "code",
   "execution_count": 16,
   "id": "8a91d183-85a0-4137-9527-a7b7b63dba0b",
   "metadata": {},
   "outputs": [],
   "source": [
    "## \n",
    "df['HP'] = df['HP'].replace('????', np.nan) "
   ]
  },
  {
   "cell_type": "code",
   "execution_count": 17,
   "id": "3bc1848a-8ec7-4eac-97de-a346c2368f21",
   "metadata": {},
   "outputs": [],
   "source": [
    "##\n",
    "df['Doors'] = df['Doors'].replace('three', 3)\n",
    "df['Doors'] = df['Doors'].replace('four', 4) \n",
    "df['Doors'] = df['Doors'].replace('five', 5) \n"
   ]
  },
  {
   "cell_type": "code",
   "execution_count": 20,
   "id": "0f790557-e260-40c7-a4ff-8b60a9f88523",
   "metadata": {},
   "outputs": [],
   "source": [
    "##\n",
    "df['KM'] = df['KM'].astype('float64') "
   ]
  },
  {
   "cell_type": "code",
   "execution_count": 22,
   "id": "54927615-edad-468a-9eaf-e54bdeb6266a",
   "metadata": {},
   "outputs": [],
   "source": [
    "## \n",
    "df['FuelType'] = df['FuelType'].astype('category')"
   ]
  },
  {
   "cell_type": "code",
   "execution_count": 24,
   "id": "5e4818a0-8505-4531-82fc-ecde38914ad4",
   "metadata": {},
   "outputs": [],
   "source": [
    "## \n",
    "df['HP']  = df['HP'].astype('float64')"
   ]
  },
  {
   "cell_type": "code",
   "execution_count": 25,
   "id": "3b1d3484-054d-4943-aca3-d4b0ae1cedc9",
   "metadata": {},
   "outputs": [],
   "source": [
    "## \n",
    "df['MetColor'] = df['MetColor'].astype('category')"
   ]
  },
  {
   "cell_type": "code",
   "execution_count": 26,
   "id": "029b75d8-58fa-4213-99c4-869916dfa66d",
   "metadata": {},
   "outputs": [],
   "source": [
    "df['Automatic'] = df['Automatic'].astype('category')"
   ]
  },
  {
   "cell_type": "code",
   "execution_count": 27,
   "id": "fc64680c-1f42-400d-b643-7eec7262ea3b",
   "metadata": {},
   "outputs": [],
   "source": [
    "df['Doors'] = df['Doors'].astype('category')"
   ]
  },
  {
   "cell_type": "code",
   "execution_count": 31,
   "id": "305a338e-8bf7-48f7-9ebe-f6a720e89a9d",
   "metadata": {},
   "outputs": [],
   "source": [
    "df['CC'] = df['CC'].astype('category')"
   ]
  },
  {
   "cell_type": "code",
   "execution_count": 33,
   "id": "40e4106c-03b9-4637-bef3-e30432411fd5",
   "metadata": {},
   "outputs": [],
   "source": [
    "## \n",
    "df['KM'] = df['KM'].fillna(df['KM'].mean())"
   ]
  },
  {
   "cell_type": "code",
   "execution_count": 34,
   "id": "adc85376-6647-4d55-9877-f605cf88dc3f",
   "metadata": {},
   "outputs": [],
   "source": [
    "## \n",
    "df['HP'] = df['HP'].fillna(df['HP'].mean())"
   ]
  },
  {
   "cell_type": "code",
   "execution_count": 35,
   "id": "726ca22e-92a7-4686-9c5d-2d21c179f1b2",
   "metadata": {},
   "outputs": [],
   "source": [
    "## \n",
    "df['Age'] = df['Age'].fillna(df['Age'].mean())"
   ]
  },
  {
   "cell_type": "code",
   "execution_count": 37,
   "id": "93920a92-c3d8-4407-90ba-2115942c64be",
   "metadata": {},
   "outputs": [
    {
     "data": {
      "text/plain": [
       "MetColor\n",
       "1.0    868\n",
       "0.0    418\n",
       "Name: count, dtype: int64"
      ]
     },
     "execution_count": 37,
     "metadata": {},
     "output_type": "execute_result"
    }
   ],
   "source": [
    "df['MetColor'].value_counts()"
   ]
  },
  {
   "cell_type": "code",
   "execution_count": 38,
   "id": "2620e71e-402a-42a9-afea-d0febbce388e",
   "metadata": {},
   "outputs": [],
   "source": [
    "df['MetColor'] = df['MetColor'].fillna(df['MetColor'].value_counts().index[0])"
   ]
  },
  {
   "cell_type": "code",
   "execution_count": 39,
   "id": "92584e88-9eb4-4f16-aaef-782ec35fc84f",
   "metadata": {},
   "outputs": [
    {
     "data": {
      "text/plain": [
       "FuelType\n",
       "Petrol    1177\n",
       "Diesel     144\n",
       "CNG         15\n",
       "Name: count, dtype: int64"
      ]
     },
     "execution_count": 39,
     "metadata": {},
     "output_type": "execute_result"
    }
   ],
   "source": [
    "df['FuelType'].value_counts()"
   ]
  },
  {
   "cell_type": "code",
   "execution_count": 40,
   "id": "e22d2a84-00ac-4ece-9f96-b31781527d0e",
   "metadata": {},
   "outputs": [],
   "source": [
    "df['FuelType'] = df['FuelType'].fillna(df['FuelType'].value_counts().index[0])"
   ]
  },
  {
   "cell_type": "code",
   "execution_count": 41,
   "id": "3b55ab20-f506-49e7-8db8-41e724a982cc",
   "metadata": {},
   "outputs": [
    {
     "data": {
      "text/plain": [
       "Price        0\n",
       "Age          0\n",
       "KM           0\n",
       "FuelType     0\n",
       "HP           0\n",
       "MetColor     0\n",
       "Automatic    0\n",
       "CC           0\n",
       "Doors        0\n",
       "Weight       0\n",
       "dtype: int64"
      ]
     },
     "execution_count": 41,
     "metadata": {},
     "output_type": "execute_result"
    }
   ],
   "source": [
    "df.isnull().sum()"
   ]
  },
  {
   "cell_type": "code",
   "execution_count": 43,
   "id": "c5f59e61-ce24-49fa-88a6-a5f9f0f46f71",
   "metadata": {},
   "outputs": [],
   "source": [
    "## \n",
    "df['KM'] = df['KM'].astype('int64')"
   ]
  },
  {
   "cell_type": "code",
   "execution_count": 44,
   "id": "450f7217-dbce-44ff-9da9-585def4fbcf9",
   "metadata": {},
   "outputs": [],
   "source": [
    "## \n",
    "df['Age'] = df['Age'].astype('int64')"
   ]
  },
  {
   "cell_type": "code",
   "execution_count": 45,
   "id": "367a6093-98db-4c80-8f0a-25a42ef93076",
   "metadata": {},
   "outputs": [],
   "source": [
    "## \n",
    "df.to_csv('cleaned_toyota.csv')"
   ]
  },
  {
   "cell_type": "code",
   "execution_count": null,
   "id": "7f176802-fb3e-46c2-b334-e2c1f55f347f",
   "metadata": {},
   "outputs": [],
   "source": [
    "matplotlib and seaborn "
   ]
  }
 ],
 "metadata": {
  "kernelspec": {
   "display_name": "Python 3 (ipykernel)",
   "language": "python",
   "name": "python3"
  },
  "language_info": {
   "codemirror_mode": {
    "name": "ipython",
    "version": 3
   },
   "file_extension": ".py",
   "mimetype": "text/x-python",
   "name": "python",
   "nbconvert_exporter": "python",
   "pygments_lexer": "ipython3",
   "version": "3.13.0"
  }
 },
 "nbformat": 4,
 "nbformat_minor": 5
}
